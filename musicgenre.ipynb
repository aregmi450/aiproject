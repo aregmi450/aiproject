{
 "cells": [
  {
   "cell_type": "code",
   "execution_count": null,
   "source": [
    "#import the related modules \r\n",
    "from python_speech_features import mfcc\r\n",
    "import scipy.io.wavfile as wav\r\n",
    "import numpy as np\r\n",
    "import os\r\n",
    "import pickle\r\n",
    "import random\r\n",
    "import operator\r\n",
    "import librosa\r\n",
    "import librosa.display\r\n",
    "import IPython.display as ipd \r\n",
    "import math\r\n",
    "import seaborn as sns\r\n",
    "from sklearn.neighbors import kneighbors_graph\r\n",
    "import matplotlib.pyplot as plt\r\n"
   ],
   "outputs": [],
   "metadata": {}
  },
  {
   "cell_type": "code",
   "execution_count": null,
   "source": [
    "#function to get the distance between feature vectors and find neighbors\r\n",
    "\r\n",
    "def getNeighbors(trainingSet, instance, k):\r\n",
    "    distances = []\r\n",
    "    for x in range(len(trainingSet)):\r\n",
    "        dist = distance(trainingSet[x], instance, k) + distance(instance, trainingSet[x], k)\r\n",
    "        distances.append((trainingSet[x][2], dist))\r\n",
    "\r\n",
    "    distances.sort(key=operator.itemgetter(1))\r\n",
    "    neighbors = []\r\n",
    "    for x in range(k):\r\n",
    "        neighbors.append(distances[x][0])\r\n",
    "    \r\n",
    "    return neighbors"
   ],
   "outputs": [],
   "metadata": {}
  },
  {
   "cell_type": "code",
   "execution_count": null,
   "source": [
    "#identify the class of instance \r\n",
    "def nearestClass(neighbors):\r\n",
    "    classVote = {}\r\n",
    "\r\n",
    "    for x in range(len(neighbors)):\r\n",
    "        response = neighbors[x]\r\n",
    "        if response in classVote:\r\n",
    "            classVote[response] += 1\r\n",
    "        else:\r\n",
    "            classVote[response] = 1\r\n",
    "\r\n",
    "    sorter = sorted(classVote.items(), key = operator.itemgetter(1), reverse=True)\r\n",
    "\r\n",
    "    return sorter[0][0]"
   ],
   "outputs": [],
   "metadata": {}
  },
  {
   "cell_type": "code",
   "execution_count": null,
   "source": [
    "#function to evaluate the model \r\n",
    "def getAccuracy(testSet, prediction):\r\n",
    "    correct = 0\r\n",
    "    for x in range(len(testSet)):\r\n",
    "        if testSet[x][-1] == predictions[x]:\r\n",
    "            correct += 1\r\n",
    "    \r\n",
    "    return (1.0 * correct) / len(testSet)"
   ],
   "outputs": [],
   "metadata": {}
  },
  {
   "cell_type": "code",
   "execution_count": null,
   "source": [
    "#directory that holds the .wav files \r\n",
    "# add the path of directory of the folder containing the dataset\r\n",
    "directory = \"C:/Users/HP/Desktop/music/genres_original/\"\r\n"
   ],
   "outputs": [],
   "metadata": {}
  },
  {
   "cell_type": "code",
   "execution_count": null,
   "source": [
    "#binary file to collect all the features extracted usingin mfcc \r\n",
    "\r\n",
    "f = open(\"my.dat\", 'wb')\r\n",
    "\r\n",
    "i = 0\r\n",
    "\r\n",
    "for folder in os.listdir(directory):\r\n",
    "    i += 1\r\n",
    "    if i == 11:\r\n",
    "        break\r\n",
    "    for file in os.listdir(directory+folder):        \r\n",
    "        try:\r\n",
    "            (rate, sig) = wav.read(directory+folder+\"/\"+file)\r\n",
    "            mfcc_feat = mfcc(sig, rate, winlen=0.020, appendEnergy=False)\r\n",
    "            covariance = np.cov(np.matrix.transpose(mfcc_feat))\r\n",
    "            mean_matrix = mfcc_feat.mean(0)\r\n",
    "            feature = (mean_matrix, covariance, i)\r\n",
    "            pickle.dump(feature, f)\r\n",
    "        except Exception as e:\r\n",
    "            print('Got an exception: ', e, ' in folder: ', folder, ' filename: ', file)        \r\n",
    "\r\n",
    "f.close()\r\n"
   ],
   "outputs": [],
   "metadata": {}
  },
  {
   "cell_type": "code",
   "execution_count": null,
   "source": [
    "## features music genre distribution across the dataset\r\n",
    "plt.plot(mfcc_feat)\r\n",
    "plt.xlabel(\"Rate\")\r\n",
    "plt.ylabel(\"Sig\")\r\n",
    "plt.show()"
   ],
   "outputs": [],
   "metadata": {}
  },
  {
   "cell_type": "code",
   "execution_count": null,
   "source": [
    "## relation between the features in this case genre of each music type\r\n",
    "## shows that no any features are tightly dependet upon each other\r\n",
    "plt.plot(covariance)\r\n",
    "plt.show()"
   ],
   "outputs": [],
   "metadata": {}
  },
  {
   "cell_type": "code",
   "execution_count": null,
   "source": [
    "#split the dataset into training and testing set \r\n",
    "\r\n",
    "dataset = []\r\n",
    "\r\n",
    "def loadDataset(filename, split, trSet, teSet):\r\n",
    "    with open('my.dat', 'rb') as f:\r\n",
    "        while True:\r\n",
    "            try:\r\n",
    "                dataset.append(pickle.load(f))\r\n",
    "            except EOFError:\r\n",
    "                f.close()\r\n",
    "                break\r\n",
    "    for x in range(len(dataset)):\r\n",
    "        if random.random() < split:\r\n",
    "            trSet.append(dataset[x])\r\n",
    "        else:\r\n",
    "            teSet.append(dataset[x])\r\n",
    "trainingSet = []\r\n",
    "testSet = []\r\n",
    "loadDataset('my.dat', 0.80, trainingSet, testSet)"
   ],
   "outputs": [],
   "metadata": {}
  },
  {
   "cell_type": "code",
   "execution_count": null,
   "source": [
    "#function to perform actual distance calculations between features\r\n",
    "\r\n",
    "def distance(instance1 , instance2 , k ):\r\n",
    "    distance =0 \r\n",
    "    mm1 = instance1[0] \r\n",
    "    cm1 = instance1[1]\r\n",
    "    mm2 = instance2[0]\r\n",
    "    cm2 = instance2[1]\r\n",
    "    distance = np.trace(np.dot(np.linalg.inv(cm2), cm1)) \r\n",
    "    distance+=(np.dot(np.dot((mm2-mm1).transpose() , np.linalg.inv(cm2)) , mm2-mm1 )) \r\n",
    "    distance+= np.log(np.linalg.det(cm2)) - np.log(np.linalg.det(cm1))\r\n",
    "    distance-= k\r\n",
    "    return distance\r\n",
    "\r\n"
   ],
   "outputs": [],
   "metadata": {}
  },
  {
   "cell_type": "code",
   "execution_count": null,
   "source": [
    "\r\n",
    "# making predictions using KNN\r\n",
    "leng = len(testSet)\r\n",
    "predictions = []\r\n",
    "for x in range(leng):\r\n",
    "    predictions.append(nearestClass(getNeighbors(trainingSet, testSet[x], 7)))\r\n",
    "\r\n",
    "accuracy1 = getAccuracy(testSet, predictions)\r\n",
    "print(accuracy1)"
   ],
   "outputs": [],
   "metadata": {}
  },
  {
   "cell_type": "code",
   "execution_count": null,
   "source": [
    "x_axis=[10]"
   ],
   "outputs": [],
   "metadata": {}
  },
  {
   "cell_type": "code",
   "execution_count": null,
   "source": [
    "import matplotlib.pyplot as plt\r\n",
    "import numpy as np\r\n",
    "import matplotlib.ticker as mtick\r\n",
    "\r\n",
    "learning_rate=0.1\r\n",
    "accuracy=[float(accuracy1)]\r\n",
    "accuracy_threshold=int(accuracy[0]*learning_rate*70)\r\n",
    "data=[]\r\n",
    "for accuracy_range in range(len(accuracy),accuracy_threshold):\r\n",
    "    data.append(accuracy_range)\r\n",
    "data.append(accuracy[0]*100)\r\n",
    "perc = np.linspace(0,100,len(data))\r\n",
    "\r\n",
    "fig = plt.figure(1, (7,4))\r\n",
    "ax = fig.add_subplot(1,1,1)\r\n",
    "\r\n",
    "ax.plot(perc, data)\r\n",
    "\r\n",
    "fmt = '%.0f%%' # Format you want the ticks, e.g. '40%'\r\n",
    "xticks = mtick.FormatStrFormatter(fmt)\r\n",
    "ax.xaxis.set_major_formatter(xticks)\r\n",
    "\r\n",
    "plt.xlabel(\" Testing Accuracy\")\r\n",
    "plt.ylabel(\"Value of K for KNN\")\r\n",
    "plt.show()\r\n",
    "## improvement on accuracy after each epoches (after finding best neighbor values i.e. 3)"
   ],
   "outputs": [],
   "metadata": {}
  },
  {
   "cell_type": "code",
   "execution_count": null,
   "source": [
    "#testing the code \r\n",
    "test_dir = \"C:/Users/HP/Desktop/music/test/\" #add the path to the test folder on your device \r\n",
    "test_file = test_dir + \"test2.wav\" #add your test file "
   ],
   "outputs": [],
   "metadata": {}
  },
  {
   "cell_type": "code",
   "execution_count": null,
   "source": [
    "#play audio file \r\n",
    "ipd.Audio(test_file)"
   ],
   "outputs": [],
   "metadata": {}
  },
  {
   "cell_type": "code",
   "execution_count": null,
   "source": [
    "#extracting features \r\n",
    "(rate, sig) = wav.read(test_file)\r\n",
    "mfcc_feat = mfcc(sig, rate, winlen = 0.020, appendEnergy = False)\r\n",
    "covariance = np.cov(np.matrix.transpose(mfcc_feat))\r\n",
    "mean_matrix = mfcc_feat.mean(0)\r\n",
    "feature = (mean_matrix, covariance, i)\r\n"
   ],
   "outputs": [],
   "metadata": {}
  },
  {
   "cell_type": "code",
   "execution_count": null,
   "source": [
    "\r\n",
    "from collections import defaultdict\r\n",
    "results = defaultdict(int)\r\n",
    "\r\n",
    "directory = \"C:/Users/HP/Desktop/music/genres_original/\"  #add the path of directory of the folder containing the dataset \r\n",
    "\r\n",
    "\r\n",
    "i = 1\r\n",
    "for folder in os.listdir(directory):\r\n",
    "    results[i] = folder\r\n",
    "    i += 1"
   ],
   "outputs": [],
   "metadata": {}
  },
  {
   "cell_type": "code",
   "execution_count": null,
   "source": [
    "music_type=[]\r\n",
    "music_value=[]\r\n",
    "colors=['red','green','orange','purple','grey','black','violet','cyan','pink']\r\n",
    "for key,value in results.items():\r\n",
    "    music_type.append(value)\r\n",
    "    music_value.append(key)\r\n",
    "\r\n",
    "from matplotlib.pyplot import figure\r\n",
    "\r\n",
    "figure(figsize=(8, 6), dpi=80)\r\n",
    "bar=plt.bar(music_type,music_value)\r\n",
    "for index,each in enumerate(colors):\r\n",
    "    bar[index].set_color(each)\r\n",
    "\r\n",
    " ## music genre list with unique id from 0 to 10 [ordinal categories] the higher ranking of the number from 0 to 10 has nothing to do with any observation\r\n",
    "plt.xlabel(\"Genres\")\r\n",
    "plt.show()"
   ],
   "outputs": [],
   "metadata": {}
  },
  {
   "cell_type": "code",
   "execution_count": null,
   "source": [
    "pred = nearestClass(getNeighbors(dataset, feature, 7))\r\n",
    "print(\"The genre is \" + results[pred])"
   ],
   "outputs": [],
   "metadata": {
    "scrolled": true
   }
  }
 ],
 "metadata": {
  "interpreter": {
   "hash": "c569cd2e17f62341e0f08a54f9a867c3c0d3a6f67454072d7de41a8b5dff8343"
  },
  "kernelspec": {
   "name": "python3",
   "display_name": "Python 3.9.5 64-bit"
  },
  "language_info": {
   "codemirror_mode": {
    "name": "ipython",
    "version": 3
   },
   "file_extension": ".py",
   "mimetype": "text/x-python",
   "name": "python",
   "nbconvert_exporter": "python",
   "pygments_lexer": "ipython3",
   "version": "3.9.5"
  }
 },
 "nbformat": 4,
 "nbformat_minor": 2
}